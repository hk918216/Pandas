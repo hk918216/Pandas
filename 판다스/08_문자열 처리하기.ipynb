{
 "cells": [
  {
   "cell_type": "markdown",
   "id": "7c975f04",
   "metadata": {},
   "source": [
    "## 문자열 처리하기"
   ]
  },
  {
   "cell_type": "code",
   "execution_count": 9,
   "id": "92a482cb",
   "metadata": {},
   "outputs": [
    {
     "name": "stdout",
     "output_type": "stream",
     "text": [
      "abcdefghijklmnop 판다스 1234 @#$%%^\n"
     ]
    }
   ],
   "source": [
    "a = 'abcdefghijklmnop'\n",
    "b = \"판다스\"\n",
    "c = '''1234'''\n",
    "d = \"\"\"@#$%%^\"\"\"\n",
    "\n",
    "print(a,b,c,d)"
   ]
  },
  {
   "cell_type": "code",
   "execution_count": 10,
   "id": "a95576a8",
   "metadata": {},
   "outputs": [
    {
     "data": {
      "text/plain": [
       "'a'"
      ]
     },
     "execution_count": 10,
     "metadata": {},
     "output_type": "execute_result"
    }
   ],
   "source": [
    "a[0]"
   ]
  },
  {
   "cell_type": "code",
   "execution_count": 11,
   "id": "2a5b680b",
   "metadata": {},
   "outputs": [
    {
     "data": {
      "text/plain": [
       "'스'"
      ]
     },
     "execution_count": 11,
     "metadata": {},
     "output_type": "execute_result"
    }
   ],
   "source": [
    "b[-1]"
   ]
  },
  {
   "cell_type": "code",
   "execution_count": 20,
   "id": "72f39f45",
   "metadata": {},
   "outputs": [
    {
     "data": {
      "text/plain": [
       "16"
      ]
     },
     "execution_count": 20,
     "metadata": {},
     "output_type": "execute_result"
    }
   ],
   "source": [
    "# 첫 문자를 대문자로\n",
    "a.capitalize()\n",
    "\n",
    "# 특정문자의 개수 카운트\n",
    "a.count('a')\n",
    "\n",
    "len(a)"
   ]
  },
  {
   "cell_type": "code",
   "execution_count": 22,
   "id": "a508a09c",
   "metadata": {},
   "outputs": [
    {
     "data": {
      "text/plain": [
       "2"
      ]
     },
     "execution_count": 22,
     "metadata": {},
     "output_type": "execute_result"
    }
   ],
   "source": [
    "# 문자열에서 문자를 찾아서 인덱스 반환\n",
    "a.find('c')"
   ]
  },
  {
   "cell_type": "code",
   "execution_count": 24,
   "id": "959bd85a",
   "metadata": {},
   "outputs": [
    {
     "ename": "ValueError",
     "evalue": "substring not found",
     "output_type": "error",
     "traceback": [
      "\u001b[1;31m---------------------------------------------------------------------------\u001b[0m",
      "\u001b[1;31mValueError\u001b[0m                                Traceback (most recent call last)",
      "Input \u001b[1;32mIn [24]\u001b[0m, in \u001b[0;36m<cell line: 2>\u001b[1;34m()\u001b[0m\n\u001b[0;32m      1\u001b[0m \u001b[38;5;66;03m# find 하고 동일하나 실패시 ValueError 반환\u001b[39;00m\n\u001b[1;32m----> 2\u001b[0m \u001b[43ma\u001b[49m\u001b[38;5;241;43m.\u001b[39;49m\u001b[43mindex\u001b[49m\u001b[43m(\u001b[49m\u001b[38;5;124;43m'\u001b[39;49m\u001b[38;5;124;43mx\u001b[39;49m\u001b[38;5;124;43m'\u001b[39;49m\u001b[43m)\u001b[49m\n",
      "\u001b[1;31mValueError\u001b[0m: substring not found"
     ]
    }
   ],
   "source": [
    "# find 하고 동일하나 실패시 ValueError 반환\n",
    "a.index('x')"
   ]
  },
  {
   "cell_type": "code",
   "execution_count": 28,
   "id": "9db034d7",
   "metadata": {},
   "outputs": [
    {
     "data": {
      "text/plain": [
       "'ABCDEFGHIJKLMNOP'"
      ]
     },
     "execution_count": 28,
     "metadata": {},
     "output_type": "execute_result"
    }
   ],
   "source": [
    "# 문자를 대문자로 변환\n",
    "A = a.upper()\n",
    "A"
   ]
  },
  {
   "cell_type": "code",
   "execution_count": 29,
   "id": "1f35f8c3",
   "metadata": {},
   "outputs": [
    {
     "data": {
      "text/plain": [
       "'abcdefghijklmnop'"
      ]
     },
     "execution_count": 29,
     "metadata": {},
     "output_type": "execute_result"
    }
   ],
   "source": [
    "# 문자를 소문자로 변환\n",
    "A.lower()"
   ]
  },
  {
   "cell_type": "code",
   "execution_count": 30,
   "id": "59cf9c0f",
   "metadata": {},
   "outputs": [
    {
     "data": {
      "text/plain": [
       "'1bcdefghijklmnop'"
      ]
     },
     "execution_count": 30,
     "metadata": {},
     "output_type": "execute_result"
    }
   ],
   "source": [
    "# replace 특정 문자를 다른 문자로 변환\n",
    "a.replace('a','1')"
   ]
  },
  {
   "cell_type": "code",
   "execution_count": 34,
   "id": "f10ca8fe",
   "metadata": {},
   "outputs": [
    {
     "data": {
      "text/plain": [
       "'abc  def'"
      ]
     },
     "execution_count": 34,
     "metadata": {},
     "output_type": "execute_result"
    }
   ],
   "source": [
    "# 문자의 앞, 뒤 공백 없애주는 함수\n",
    "b = '    abc  def   '\n",
    "b.strip()"
   ]
  },
  {
   "cell_type": "code",
   "execution_count": 35,
   "id": "26bd88be",
   "metadata": {
    "scrolled": true
   },
   "outputs": [
    {
     "data": {
      "text/plain": [
       "['http:', '', 'dojang.io', 'mod', 'page', 'vies.php?id=2345']"
      ]
     },
     "execution_count": 35,
     "metadata": {},
     "output_type": "execute_result"
    }
   ],
   "source": [
    "# 문자를 특정 구간으로 잘라주는 함수 > 리스트로 저장\n",
    "url = 'http://dojang.io/mod/page/vies.php?id=2345'\n",
    "urls = url.split('/')\n",
    "urls"
   ]
  },
  {
   "cell_type": "code",
   "execution_count": 38,
   "id": "aff27970",
   "metadata": {},
   "outputs": [
    {
     "data": {
      "text/plain": [
       "'http://dojang.io/mod/page/vies.php?id=2345'"
      ]
     },
     "execution_count": 38,
     "metadata": {},
     "output_type": "execute_result"
    }
   ],
   "source": [
    "# 리스트에 있는 문자열을 하나로 합쳐주는 함수\n",
    "urls\n",
    "\n",
    "'/'.join(urls)"
   ]
  },
  {
   "cell_type": "markdown",
   "id": "bbc0982c",
   "metadata": {},
   "source": [
    "## 문자열 포맷팅"
   ]
  },
  {
   "cell_type": "code",
   "execution_count": 39,
   "id": "cd27045a",
   "metadata": {},
   "outputs": [
    {
     "name": "stdout",
     "output_type": "stream",
     "text": [
      "It's just a flesh wound!\n"
     ]
    }
   ],
   "source": [
    "var = 'flesh wound'\n",
    "s = \"It's just a {}!\"\n",
    "print(s.format(var))"
   ]
  },
  {
   "cell_type": "code",
   "execution_count": 40,
   "id": "e24b9419",
   "metadata": {},
   "outputs": [
    {
     "data": {
      "text/plain": [
       "\"It's just a flesh wound\""
      ]
     },
     "execution_count": 40,
     "metadata": {},
     "output_type": "execute_result"
    }
   ],
   "source": [
    "\"It's just a {}\".format('flesh wound')"
   ]
  },
  {
   "cell_type": "code",
   "execution_count": 41,
   "id": "47fdcadc",
   "metadata": {},
   "outputs": [
    {
     "name": "stdout",
     "output_type": "stream",
     "text": [
      "10 + 5 = 15\n"
     ]
    }
   ],
   "source": [
    "a= 10; b= 5\n",
    "print('{} + {} = {}'.format(a,b,a+b))\n",
    "    "
   ]
  },
  {
   "cell_type": "code",
   "execution_count": 43,
   "id": "6411095f",
   "metadata": {},
   "outputs": [
    {
     "name": "stdout",
     "output_type": "stream",
     "text": [
      "10 + 5 = 15\n"
     ]
    }
   ],
   "source": [
    "print(f'{a} + {b} = {a+b}')"
   ]
  },
  {
   "cell_type": "code",
   "execution_count": 46,
   "id": "7a2bbb00",
   "metadata": {},
   "outputs": [
    {
     "data": {
      "text/plain": [
       "'5 + 10 = 10'"
      ]
     },
     "execution_count": 46,
     "metadata": {},
     "output_type": "execute_result"
    }
   ],
   "source": [
    "'{1} + {0} = {0}'.format(a,b)"
   ]
  },
  {
   "cell_type": "code",
   "execution_count": 50,
   "id": "e5ded80e",
   "metadata": {},
   "outputs": [
    {
     "data": {
      "text/plain": [
       "'10 + 5 = 15'"
      ]
     },
     "execution_count": 50,
     "metadata": {},
     "output_type": "execute_result"
    }
   ],
   "source": [
    "'%d + %d = %d' %(a,b,a+b)"
   ]
  },
  {
   "cell_type": "code",
   "execution_count": null,
   "id": "4ea8b425",
   "metadata": {},
   "outputs": [],
   "source": []
  }
 ],
 "metadata": {
  "kernelspec": {
   "display_name": "Python 3 (ipykernel)",
   "language": "python",
   "name": "python3"
  },
  "language_info": {
   "codemirror_mode": {
    "name": "ipython",
    "version": 3
   },
   "file_extension": ".py",
   "mimetype": "text/x-python",
   "name": "python",
   "nbconvert_exporter": "python",
   "pygments_lexer": "ipython3",
   "version": "3.9.12"
  }
 },
 "nbformat": 4,
 "nbformat_minor": 5
}
