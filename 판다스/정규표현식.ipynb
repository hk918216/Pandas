{
 "cells": [
  {
   "cell_type": "markdown",
   "id": "1e675b34",
   "metadata": {},
   "source": [
    "## 정규표현식 사용하기"
   ]
  },
  {
   "cell_type": "code",
   "execution_count": 1,
   "id": "44787bdf",
   "metadata": {},
   "outputs": [],
   "source": [
    "import re"
   ]
  },
  {
   "cell_type": "code",
   "execution_count": 4,
   "id": "f9265570",
   "metadata": {},
   "outputs": [
    {
     "data": {
      "text/plain": [
       "<re.Match object; span=(0, 5), match='Hello'>"
      ]
     },
     "execution_count": 4,
     "metadata": {},
     "output_type": "execute_result"
    }
   ],
   "source": [
    "re.match('Hello','Hello, World') # 문자열 있으므로 정규표현식 매치 객체가 반환됨"
   ]
  },
  {
   "cell_type": "code",
   "execution_count": 5,
   "id": "1ff8d50e",
   "metadata": {},
   "outputs": [],
   "source": [
    "re.match('Python','Hello World!') # 문자열이 없으므로 아무것도 반환 안됨"
   ]
  },
  {
   "cell_type": "code",
   "execution_count": 6,
   "id": "1a37b817",
   "metadata": {},
   "outputs": [
    {
     "data": {
      "text/plain": [
       "<re.Match object; span=(0, 5), match='Hello'>"
      ]
     },
     "execution_count": 6,
     "metadata": {},
     "output_type": "execute_result"
    }
   ],
   "source": [
    "re.search('Hello','Hello, World') #Hello 로 시작하르모 패턴에 매칭됨"
   ]
  },
  {
   "cell_type": "code",
   "execution_count": 8,
   "id": "329f8fac",
   "metadata": {},
   "outputs": [
    {
     "data": {
      "text/plain": [
       "<re.Match object; span=(7, 13), match='World!'>"
      ]
     },
     "execution_count": 8,
     "metadata": {},
     "output_type": "execute_result"
    }
   ],
   "source": [
    "re.search('World!$','Hello, World!')"
   ]
  },
  {
   "cell_type": "code",
   "execution_count": 13,
   "id": "c78fba1c",
   "metadata": {},
   "outputs": [
    {
     "name": "stdout",
     "output_type": "stream",
     "text": [
      "<re.Match object; span=(0, 1), match='h'>\n",
      "<re.Match object; span=(0, 1), match='h'>\n",
      "None\n"
     ]
    }
   ],
   "source": [
    "# 숫자 [0-9]\n",
    "# 알파벳 소문자[a-z]\n",
    "# 알파벳 대문자[A-Z]\n",
    "print(re.match('[a-z]','hello, world!'))\n",
    "print(re.match('[0-9a-z]','hello, world!'))\n",
    "print(re.match('[0-9][a-z]','hello, world!'))"
   ]
  },
  {
   "cell_type": "code",
   "execution_count": 15,
   "id": "bf7f2214",
   "metadata": {},
   "outputs": [
    {
     "data": {
      "text/plain": [
       "<re.Match object; span=(0, 4), match='1234'>"
      ]
     },
     "execution_count": 15,
     "metadata": {},
     "output_type": "execute_result"
    }
   ],
   "source": [
    "re.match('[0-9]*','1234') #1234는 0부터 9까지 숫자가 0개 이상 있으므로 패턴에 매칭됨"
   ]
  },
  {
   "cell_type": "code",
   "execution_count": 17,
   "id": "c451747a",
   "metadata": {},
   "outputs": [
    {
     "data": {
      "text/plain": [
       "<re.Match object; span=(0, 4), match='1234'>"
      ]
     },
     "execution_count": 17,
     "metadata": {},
     "output_type": "execute_result"
    }
   ],
   "source": [
    "re.match('[0-9]+','1234') # 1개 이상 있으므로 패턴에 매칭됨"
   ]
  },
  {
   "cell_type": "code",
   "execution_count": 19,
   "id": "97c99eda",
   "metadata": {},
   "outputs": [
    {
     "data": {
      "text/plain": [
       "<re.Match object; span=(0, 1), match='b'>"
      ]
     },
     "execution_count": 19,
     "metadata": {},
     "output_type": "execute_result"
    }
   ],
   "source": [
    "re.match('a*b','b') #b에는 a가 0개 이상 있으므로 패턴에 매칭"
   ]
  },
  {
   "cell_type": "code",
   "execution_count": 20,
   "id": "cc5ba26b",
   "metadata": {},
   "outputs": [],
   "source": [
    "re.match('a+b','b') # b에는 a가 1개 이상 없으므로 패턴에 매칭안됨"
   ]
  },
  {
   "cell_type": "code",
   "execution_count": 21,
   "id": "4395cf04",
   "metadata": {},
   "outputs": [
    {
     "data": {
      "text/plain": [
       "<re.Match object; span=(0, 3), match='aab'>"
      ]
     },
     "execution_count": 21,
     "metadata": {},
     "output_type": "execute_result"
    }
   ],
   "source": [
    "re.match('a*b','aab') # aab에는 a가 0개 이상 있으므로 패턴에 매칭"
   ]
  },
  {
   "cell_type": "code",
   "execution_count": 22,
   "id": "4eb61ab1",
   "metadata": {},
   "outputs": [
    {
     "data": {
      "text/plain": [
       "<re.Match object; span=(0, 3), match='aab'>"
      ]
     },
     "execution_count": 22,
     "metadata": {},
     "output_type": "execute_result"
    }
   ],
   "source": [
    "re.match('a+b','aab') #aab에는 a가 1개 이상 있으므로 패턴에 매칭됨"
   ]
  },
  {
   "cell_type": "markdown",
   "id": "da9305c7",
   "metadata": {},
   "source": [
    "#### 문자가 한개만 있는지 확인하기"
   ]
  },
  {
   "cell_type": "code",
   "execution_count": 24,
   "id": "c53ed826",
   "metadata": {},
   "outputs": [
    {
     "data": {
      "text/plain": [
       "<re.Match object; span=(0, 3), match='abd'>"
      ]
     },
     "execution_count": 24,
     "metadata": {},
     "output_type": "execute_result"
    }
   ],
   "source": [
    "re.match('abc?d','abd') #abd에서 c위치에 c가 0개 있으므로 패턴에 매칭"
   ]
  },
  {
   "cell_type": "code",
   "execution_count": 25,
   "id": "b52e2301",
   "metadata": {},
   "outputs": [
    {
     "data": {
      "text/plain": [
       "<re.Match object; span=(0, 4), match='ab3c'>"
      ]
     },
     "execution_count": 25,
     "metadata": {},
     "output_type": "execute_result"
    }
   ],
   "source": [
    "re.match('ab[0-9]?c','ab3c') #[0-9] 위치에 숫자가 1개 있으므로 패턴에 매칭"
   ]
  },
  {
   "cell_type": "code",
   "execution_count": 26,
   "id": "be99ae51",
   "metadata": {},
   "outputs": [
    {
     "data": {
      "text/plain": [
       "<re.Match object; span=(0, 4), match='abxd'>"
      ]
     },
     "execution_count": 26,
     "metadata": {},
     "output_type": "execute_result"
    }
   ],
   "source": [
    "re.match('ab.d','abxd') #.이 있는 위치에 문자가 1개 있으므로 패턴에 매칭"
   ]
  },
  {
   "cell_type": "code",
   "execution_count": null,
   "id": "d29c0d6c",
   "metadata": {},
   "outputs": [],
   "source": []
  },
  {
   "cell_type": "code",
   "execution_count": 28,
   "id": "80754874",
   "metadata": {},
   "outputs": [
    {
     "data": {
      "text/plain": [
       "<re.Match object; span=(0, 3), match='hhh'>"
      ]
     },
     "execution_count": 28,
     "metadata": {},
     "output_type": "execute_result"
    }
   ],
   "source": [
    "#h{3}은 h가 3개 있는지 판단\n",
    "re.match('h{3}','hhhello')"
   ]
  },
  {
   "cell_type": "code",
   "execution_count": 30,
   "id": "4a7a7565",
   "metadata": {},
   "outputs": [
    {
     "data": {
      "text/plain": [
       "<re.Match object; span=(0, 15), match='hellohellohello'>"
      ]
     },
     "execution_count": 30,
     "metadata": {},
     "output_type": "execute_result"
    }
   ],
   "source": [
    "re.match('(hello){3}','hellohellohelloworld')"
   ]
  },
  {
   "cell_type": "markdown",
   "id": "3e555353",
   "metadata": {},
   "source": [
    "#### 특정 범위의 문자(숫자)가 몇 개 있는지 판단가능"
   ]
  },
  {
   "cell_type": "code",
   "execution_count": 31,
   "id": "0a6b8378",
   "metadata": {},
   "outputs": [
    {
     "data": {
      "text/plain": [
       "<re.Match object; span=(0, 13), match='010-1000-1000'>"
      ]
     },
     "execution_count": 31,
     "metadata": {},
     "output_type": "execute_result"
    }
   ],
   "source": [
    "# 휴대전화 번호 형식에 맞는지 판단\n",
    "re.match('[0-9]{3}-[0-9]{4}-[0-9]{4}','010-1000-1000') "
   ]
  },
  {
   "cell_type": "markdown",
   "id": "73880658",
   "metadata": {},
   "source": [
    "#### 특정 개수 사이에 들어가는지 판단"
   ]
  },
  {
   "cell_type": "code",
   "execution_count": 32,
   "id": "58814adc",
   "metadata": {},
   "outputs": [
    {
     "data": {
      "text/plain": [
       "<re.Match object; span=(0, 11), match='02-100-1000'>"
      ]
     },
     "execution_count": 32,
     "metadata": {},
     "output_type": "execute_result"
    }
   ],
   "source": [
    "re.match('[0-9]{2,3}-[0-9]{3,4}-[0-9]{4}', '02-100-1000')"
   ]
  },
  {
   "cell_type": "code",
   "execution_count": 37,
   "id": "6735140c",
   "metadata": {},
   "outputs": [
    {
     "data": {
      "text/plain": [
       "<re.Match object; span=(0, 9), match='Hello1234'>"
      ]
     },
     "execution_count": 37,
     "metadata": {},
     "output_type": "execute_result"
    }
   ],
   "source": [
    "re.match('[a-zA-Z0-9]+', 'Hello1234') #a부터 z, A부터 Z, 0부터 9 까지 1개 이상있으므로"
   ]
  },
  {
   "cell_type": "code",
   "execution_count": 39,
   "id": "a396680b",
   "metadata": {},
   "outputs": [
    {
     "data": {
      "text/plain": [
       "<re.Match object; span=(0, 3), match='홍길동'>"
      ]
     },
     "execution_count": 39,
     "metadata": {},
     "output_type": "execute_result"
    }
   ],
   "source": [
    "re.match('[가-힣]+','홍길동')"
   ]
  },
  {
   "cell_type": "code",
   "execution_count": 41,
   "id": "ef62175b",
   "metadata": {},
   "outputs": [
    {
     "data": {
      "text/plain": [
       "<re.Match object; span=(0, 5), match='파이썬ㅣㅏ'>"
      ]
     },
     "execution_count": 41,
     "metadata": {},
     "output_type": "execute_result"
    }
   ],
   "source": [
    "re.match('[가-힣ㄱ-ㅎㅏ-ㅣ]+','파이썬ㅣㅏ')"
   ]
  },
  {
   "cell_type": "markdown",
   "id": "2421f72e",
   "metadata": {},
   "source": [
    "#### 특정 문자 범위에 포함되지 않는지 판단\n",
    "- [^범위]*\n",
    "- [^범위]+"
   ]
  },
  {
   "cell_type": "code",
   "execution_count": 43,
   "id": "85691535",
   "metadata": {},
   "outputs": [],
   "source": [
    "re.match('[^A-Z]+','Hello')  # 대문자 제외. 대문자가 있으므로 매칭 안됨"
   ]
  },
  {
   "cell_type": "code",
   "execution_count": 45,
   "id": "056f9285",
   "metadata": {},
   "outputs": [
    {
     "data": {
      "text/plain": [
       "<re.Match object; span=(0, 5), match='hello'>"
      ]
     },
     "execution_count": 45,
     "metadata": {},
     "output_type": "execute_result"
    }
   ],
   "source": [
    "re.match('[^A-Z]+','hello') # 대문자 제외. 대문자가 없으므로 패턴에 매칭"
   ]
  },
  {
   "cell_type": "markdown",
   "id": "372685f6",
   "metadata": {},
   "source": [
    "- 특정 문자(숫자) 범위로끝나는지 확인할 때는 정규표현식 뒤에 $ 붙임\n",
    "\n",
    "- [범위]*$\n",
    "\n",
    "- [범위]+$"
   ]
  },
  {
   "cell_type": "code",
   "execution_count": 47,
   "id": "1380e3c9",
   "metadata": {},
   "outputs": [
    {
     "data": {
      "text/plain": [
       "<re.Match object; span=(5, 9), match='1234'>"
      ]
     },
     "execution_count": 47,
     "metadata": {},
     "output_type": "execute_result"
    }
   ],
   "source": [
    "re.search('[0-9]+$','Hello1234')"
   ]
  },
  {
   "cell_type": "markdown",
   "id": "f1cbdace",
   "metadata": {},
   "source": [
    "- 특수문자 찾기\n",
    "- \\특수문자"
   ]
  },
  {
   "cell_type": "code",
   "execution_count": 49,
   "id": "2a68153b",
   "metadata": {},
   "outputs": [
    {
     "data": {
      "text/plain": [
       "<re.Match object; span=(2, 4), match='**'>"
      ]
     },
     "execution_count": 49,
     "metadata": {},
     "output_type": "execute_result"
    }
   ],
   "source": [
    "re.search('\\*+','1 ** 2')"
   ]
  },
  {
   "cell_type": "code",
   "execution_count": 63,
   "id": "2f3ac860",
   "metadata": {},
   "outputs": [
    {
     "data": {
      "text/plain": [
       "<re.Match object; span=(0, 11), match='$(document)'>"
      ]
     },
     "execution_count": 63,
     "metadata": {},
     "output_type": "execute_result"
    }
   ],
   "source": [
    "re.match('[$()a-zA-Z0-9]+', '$(document)')"
   ]
  },
  {
   "cell_type": "code",
   "execution_count": 66,
   "id": "152036e1",
   "metadata": {},
   "outputs": [
    {
     "data": {
      "text/plain": [
       "<re.Match object; span=(0, 4), match='1234'>"
      ]
     },
     "execution_count": 66,
     "metadata": {},
     "output_type": "execute_result"
    }
   ],
   "source": [
    "re.match('\\d+','1234') #모든 숫자이므로 패턴에 매칭됨"
   ]
  },
  {
   "cell_type": "code",
   "execution_count": 67,
   "id": "3465fe42",
   "metadata": {},
   "outputs": [
    {
     "data": {
      "text/plain": [
       "<re.Match object; span=(0, 5), match='Hello'>"
      ]
     },
     "execution_count": 67,
     "metadata": {},
     "output_type": "execute_result"
    }
   ],
   "source": [
    "re.match('\\D+','Hello') #숫자 제외 모든 숫자이므로 패턴 매칭"
   ]
  },
  {
   "cell_type": "code",
   "execution_count": 69,
   "id": "cf9be9b7",
   "metadata": {},
   "outputs": [
    {
     "data": {
      "text/plain": [
       "<re.Match object; span=(0, 10), match='Hello_1234'>"
      ]
     },
     "execution_count": 69,
     "metadata": {},
     "output_type": "execute_result"
    }
   ],
   "source": [
    "re.match('\\w+','Hello_1234') # 영문 대소문자. 숫자. 밑줄 문자이므로 패턴 매칭"
   ]
  },
  {
   "cell_type": "code",
   "execution_count": 70,
   "id": "bc5aebac",
   "metadata": {},
   "outputs": [
    {
     "data": {
      "text/plain": [
       "<re.Match object; span=(0, 3), match='(:)'>"
      ]
     },
     "execution_count": 70,
     "metadata": {},
     "output_type": "execute_result"
    }
   ],
   "source": [
    "re.match('\\W+','(:)')  # 영문 대소문자. 숫자.밑줄문자를 제외한 모든 문자이므로 패턴 매칭"
   ]
  },
  {
   "cell_type": "markdown",
   "id": "c619a9e7",
   "metadata": {},
   "source": [
    "#### 공백처리하기\n",
    "- \\s\n",
    "- \\S"
   ]
  },
  {
   "cell_type": "code",
   "execution_count": 72,
   "id": "1e5b4fdd",
   "metadata": {},
   "outputs": [
    {
     "data": {
      "text/plain": [
       "<re.Match object; span=(0, 10), match='Hello 1234'>"
      ]
     },
     "execution_count": 72,
     "metadata": {},
     "output_type": "execute_result"
    }
   ],
   "source": [
    "re.match('[a-zA-Z0-9 ]+','Hello 1234')  #' '로 공백표현"
   ]
  },
  {
   "cell_type": "code",
   "execution_count": 73,
   "id": "d2eaae61",
   "metadata": {},
   "outputs": [
    {
     "data": {
      "text/plain": [
       "<re.Match object; span=(0, 17), match='\\n                '>"
      ]
     },
     "execution_count": 73,
     "metadata": {},
     "output_type": "execute_result"
    }
   ],
   "source": [
    "re.match('\\s+','''\n",
    "                ''')"
   ]
  },
  {
   "cell_type": "code",
   "execution_count": 74,
   "id": "309fbde2",
   "metadata": {},
   "outputs": [
    {
     "data": {
      "text/plain": [
       "<re.Match object; span=(0, 9), match='aaaADFS__'>"
      ]
     },
     "execution_count": 74,
     "metadata": {},
     "output_type": "execute_result"
    }
   ],
   "source": [
    "re.match('\\S+','''aaaADFS__  1234''')"
   ]
  },
  {
   "cell_type": "markdown",
   "id": "61ee636e",
   "metadata": {},
   "source": [
    "#### 같은 정규표현식  패턴 자주 사용할 때"
   ]
  },
  {
   "cell_type": "code",
   "execution_count": 75,
   "id": "ddfd4a1a",
   "metadata": {},
   "outputs": [
    {
     "data": {
      "text/plain": [
       "<re.Match object; span=(0, 4), match='1234'>"
      ]
     },
     "execution_count": 75,
     "metadata": {},
     "output_type": "execute_result"
    }
   ],
   "source": [
    "# 객체에 정규표현식 저장\n",
    "p = re.compile('[0-9]+')\n",
    "p.match('1234')"
   ]
  },
  {
   "cell_type": "code",
   "execution_count": 79,
   "id": "fde948f4",
   "metadata": {},
   "outputs": [],
   "source": [
    "p.search('hello')"
   ]
  },
  {
   "cell_type": "markdown",
   "id": "f41843f7",
   "metadata": {},
   "source": [
    "#### 그룹 사용하기\n",
    "- 패턴에 매칭되는 문자열 가져오기"
   ]
  },
  {
   "cell_type": "code",
   "execution_count": 80,
   "id": "3d79cf5a",
   "metadata": {},
   "outputs": [
    {
     "data": {
      "text/plain": [
       "['1', '2', '4', '7', '8']"
      ]
     },
     "execution_count": 80,
     "metadata": {},
     "output_type": "execute_result"
    }
   ],
   "source": [
    "re.findall('[0-9]+','1 2 Fizz 4 Buzz Fizz 7 8')"
   ]
  },
  {
   "cell_type": "markdown",
   "id": "4768bb61",
   "metadata": {},
   "source": [
    "- re.sub('패턴','바꿀문자열','문자열','바꿀횟수')"
   ]
  },
  {
   "cell_type": "code",
   "execution_count": 82,
   "id": "b880d560",
   "metadata": {},
   "outputs": [
    {
     "data": {
      "text/plain": [
       "'fruit box fruit tree'"
      ]
     },
     "execution_count": 82,
     "metadata": {},
     "output_type": "execute_result"
    }
   ],
   "source": [
    "re.sub('apple|orange','fruit','apple box orange tree') # apple 또는 orange를 fruit로 바꿈"
   ]
  },
  {
   "cell_type": "code",
   "execution_count": 83,
   "id": "ba4c20b1",
   "metadata": {},
   "outputs": [
    {
     "data": {
      "text/plain": [
       "'fruit box orange tree'"
      ]
     },
     "execution_count": 83,
     "metadata": {},
     "output_type": "execute_result"
    }
   ],
   "source": [
    "re.sub('apple|orange','fruit','apple box orange tree',1)"
   ]
  },
  {
   "cell_type": "code",
   "execution_count": 85,
   "id": "73da967e",
   "metadata": {},
   "outputs": [
    {
     "data": {
      "text/plain": [
       "'n n Fizz n Buzz Fizz n n'"
      ]
     },
     "execution_count": 85,
     "metadata": {},
     "output_type": "execute_result"
    }
   ],
   "source": [
    "re.sub('[0-9]+','n','1 2 Fizz 4 Buzz Fizz 7 8') # 숫자만 찾아서 n으로 바꿈"
   ]
  },
  {
   "cell_type": "markdown",
   "id": "19b86976",
   "metadata": {},
   "source": [
    "#### 연습문제 이메일 검사하기"
   ]
  },
  {
   "cell_type": "code",
   "execution_count": 103,
   "id": "f5ee3996",
   "metadata": {},
   "outputs": [
    {
     "name": "stdout",
     "output_type": "stream",
     "text": [
      "True True True True True False False False "
     ]
    }
   ],
   "source": [
    "p = re.compile('^[a-zA-Z0-9.+-_]+@[a-z-]+\\.[a-z.]+$')\n",
    "emails = ['python@mail.example.com','python+kr@example.com',  #올바른\n",
    "          'python-dojang@example.co.kr','python_10@example.info','python.dojang@e-xample.com', #올바른\n",
    "          '@example.com','python@example','python@example-com']  #잘못된 형식\n",
    "\n",
    "for email in emails:\n",
    "    print(p.match(email) != None, end=' ')"
   ]
  }
 ],
 "metadata": {
  "kernelspec": {
   "display_name": "Python 3 (ipykernel)",
   "language": "python",
   "name": "python3"
  },
  "language_info": {
   "codemirror_mode": {
    "name": "ipython",
    "version": 3
   },
   "file_extension": ".py",
   "mimetype": "text/x-python",
   "name": "python",
   "nbconvert_exporter": "python",
   "pygments_lexer": "ipython3",
   "version": "3.9.12"
  }
 },
 "nbformat": 4,
 "nbformat_minor": 5
}
