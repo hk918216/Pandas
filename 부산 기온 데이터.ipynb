{
 "cells": [
  {
   "cell_type": "markdown",
   "id": "07ee6627",
   "metadata": {},
   "source": [
    "## 부산시 기온데이터"
   ]
  },
  {
   "cell_type": "code",
   "execution_count": 1,
   "id": "222e55a9",
   "metadata": {},
   "outputs": [],
   "source": [
    "import pandas as pd"
   ]
  },
  {
   "cell_type": "code",
   "execution_count": 28,
   "id": "19445489",
   "metadata": {},
   "outputs": [
    {
     "data": {
      "text/html": [
       "<div>\n",
       "<style scoped>\n",
       "    .dataframe tbody tr th:only-of-type {\n",
       "        vertical-align: middle;\n",
       "    }\n",
       "\n",
       "    .dataframe tbody tr th {\n",
       "        vertical-align: top;\n",
       "    }\n",
       "\n",
       "    .dataframe thead th {\n",
       "        text-align: right;\n",
       "    }\n",
       "</style>\n",
       "<table border=\"1\" class=\"dataframe\">\n",
       "  <thead>\n",
       "    <tr style=\"text-align: right;\">\n",
       "      <th></th>\n",
       "      <th>날짜</th>\n",
       "      <th>지점</th>\n",
       "      <th>평균기온(℃)</th>\n",
       "      <th>최저기온(℃)</th>\n",
       "      <th>최고기온(℃)</th>\n",
       "    </tr>\n",
       "  </thead>\n",
       "  <tbody>\n",
       "    <tr>\n",
       "      <th>0</th>\n",
       "      <td>1904-04-09</td>\n",
       "      <td>159</td>\n",
       "      <td>11.3</td>\n",
       "      <td>7.8</td>\n",
       "      <td>16.1</td>\n",
       "    </tr>\n",
       "    <tr>\n",
       "      <th>1</th>\n",
       "      <td>1904-04-10</td>\n",
       "      <td>159</td>\n",
       "      <td>9.3</td>\n",
       "      <td>4.7</td>\n",
       "      <td>15.2</td>\n",
       "    </tr>\n",
       "    <tr>\n",
       "      <th>2</th>\n",
       "      <td>1904-04-11</td>\n",
       "      <td>159</td>\n",
       "      <td>10.6</td>\n",
       "      <td>NaN</td>\n",
       "      <td>14.9</td>\n",
       "    </tr>\n",
       "    <tr>\n",
       "      <th>3</th>\n",
       "      <td>1904-04-12</td>\n",
       "      <td>159</td>\n",
       "      <td>11.3</td>\n",
       "      <td>8.8</td>\n",
       "      <td>13.4</td>\n",
       "    </tr>\n",
       "    <tr>\n",
       "      <th>4</th>\n",
       "      <td>1904-04-13</td>\n",
       "      <td>159</td>\n",
       "      <td>14.5</td>\n",
       "      <td>11.1</td>\n",
       "      <td>16.9</td>\n",
       "    </tr>\n",
       "  </tbody>\n",
       "</table>\n",
       "</div>"
      ],
      "text/plain": [
       "           날짜   지점  평균기온(℃)  최저기온(℃)  최고기온(℃)\n",
       "0  1904-04-09  159     11.3      7.8     16.1\n",
       "1  1904-04-10  159      9.3      4.7     15.2\n",
       "2  1904-04-11  159     10.6      NaN     14.9\n",
       "3  1904-04-12  159     11.3      8.8     13.4\n",
       "4  1904-04-13  159     14.5     11.1     16.9"
      ]
     },
     "execution_count": 28,
     "metadata": {},
     "output_type": "execute_result"
    }
   ],
   "source": [
    "df = pd.read_csv('C:/STUDY/부산시기온.csv', encoding='cp949', skiprows=7) #skiprows=7 : 위에 필요없는 7행 지움\n",
    "df.head()"
   ]
  },
  {
   "cell_type": "code",
   "execution_count": 29,
   "id": "4c15d5ba",
   "metadata": {},
   "outputs": [
    {
     "data": {
      "text/html": [
       "<div>\n",
       "<style scoped>\n",
       "    .dataframe tbody tr th:only-of-type {\n",
       "        vertical-align: middle;\n",
       "    }\n",
       "\n",
       "    .dataframe tbody tr th {\n",
       "        vertical-align: top;\n",
       "    }\n",
       "\n",
       "    .dataframe thead th {\n",
       "        text-align: right;\n",
       "    }\n",
       "</style>\n",
       "<table border=\"1\" class=\"dataframe\">\n",
       "  <thead>\n",
       "    <tr style=\"text-align: right;\">\n",
       "      <th></th>\n",
       "      <th>날짜</th>\n",
       "      <th>지점</th>\n",
       "      <th>평균기온(℃)</th>\n",
       "      <th>최저기온(℃)</th>\n",
       "      <th>최고기온(℃)</th>\n",
       "    </tr>\n",
       "  </thead>\n",
       "  <tbody>\n",
       "    <tr>\n",
       "      <th>41035</th>\n",
       "      <td>2016-08-14</td>\n",
       "      <td>159</td>\n",
       "      <td>31.7</td>\n",
       "      <td>28.3</td>\n",
       "      <td>37.3</td>\n",
       "    </tr>\n",
       "  </tbody>\n",
       "</table>\n",
       "</div>"
      ],
      "text/plain": [
       "               날짜   지점  평균기온(℃)  최저기온(℃)  최고기온(℃)\n",
       "41035  2016-08-14  159     31.7     28.3     37.3"
      ]
     },
     "execution_count": 29,
     "metadata": {},
     "output_type": "execute_result"
    }
   ],
   "source": [
    "# 가장 더웠던 날\n",
    "df[df['최고기온(℃)']==df['최고기온(℃)'].max()]"
   ]
  },
  {
   "cell_type": "code",
   "execution_count": 30,
   "id": "fdb82516",
   "metadata": {},
   "outputs": [
    {
     "data": {
      "text/html": [
       "<div>\n",
       "<style scoped>\n",
       "    .dataframe tbody tr th:only-of-type {\n",
       "        vertical-align: middle;\n",
       "    }\n",
       "\n",
       "    .dataframe tbody tr th {\n",
       "        vertical-align: top;\n",
       "    }\n",
       "\n",
       "    .dataframe thead th {\n",
       "        text-align: right;\n",
       "    }\n",
       "</style>\n",
       "<table border=\"1\" class=\"dataframe\">\n",
       "  <thead>\n",
       "    <tr style=\"text-align: right;\">\n",
       "      <th></th>\n",
       "      <th>날짜</th>\n",
       "      <th>지점</th>\n",
       "      <th>평균기온(℃)</th>\n",
       "      <th>최저기온(℃)</th>\n",
       "      <th>최고기온(℃)</th>\n",
       "      <th>일교차</th>\n",
       "    </tr>\n",
       "  </thead>\n",
       "  <tbody>\n",
       "    <tr>\n",
       "      <th>28729</th>\n",
       "      <td>1982-12-05</td>\n",
       "      <td>159</td>\n",
       "      <td>3.9</td>\n",
       "      <td>-3.3</td>\n",
       "      <td>15.2</td>\n",
       "      <td>18.5</td>\n",
       "    </tr>\n",
       "  </tbody>\n",
       "</table>\n",
       "</div>"
      ],
      "text/plain": [
       "               날짜   지점  평균기온(℃)  최저기온(℃)  최고기온(℃)   일교차\n",
       "28729  1982-12-05  159      3.9     -3.3     15.2  18.5"
      ]
     },
     "execution_count": 30,
     "metadata": {},
     "output_type": "execute_result"
    }
   ],
   "source": [
    "# 일교차 가장 큰 날\n",
    "df['일교차'] = df['최고기온(℃)'] - df['최저기온(℃)']\n",
    "df[df['일교차'] == df['일교차'].max()]"
   ]
  },
  {
   "cell_type": "code",
   "execution_count": 31,
   "id": "762e54d4",
   "metadata": {},
   "outputs": [
    {
     "data": {
      "text/plain": [
       "날짜         43154\n",
       "지점         43154\n",
       "평균기온(℃)    43154\n",
       "최저기온(℃)    43144\n",
       "최고기온(℃)    43150\n",
       "일교차        43143\n",
       "dtype: int64"
      ]
     },
     "execution_count": 31,
     "metadata": {},
     "output_type": "execute_result"
    }
   ],
   "source": [
    "# 누락값 확인\n",
    "df.count()"
   ]
  },
  {
   "cell_type": "code",
   "execution_count": 32,
   "id": "07c1ef9f",
   "metadata": {},
   "outputs": [
    {
     "data": {
      "text/html": [
       "<div>\n",
       "<style scoped>\n",
       "    .dataframe tbody tr th:only-of-type {\n",
       "        vertical-align: middle;\n",
       "    }\n",
       "\n",
       "    .dataframe tbody tr th {\n",
       "        vertical-align: top;\n",
       "    }\n",
       "\n",
       "    .dataframe thead th {\n",
       "        text-align: right;\n",
       "    }\n",
       "</style>\n",
       "<table border=\"1\" class=\"dataframe\">\n",
       "  <thead>\n",
       "    <tr style=\"text-align: right;\">\n",
       "      <th></th>\n",
       "      <th>날짜</th>\n",
       "      <th>지점</th>\n",
       "      <th>평균기온(℃)</th>\n",
       "      <th>최저기온(℃)</th>\n",
       "      <th>최고기온(℃)</th>\n",
       "      <th>일교차</th>\n",
       "    </tr>\n",
       "  </thead>\n",
       "  <tbody>\n",
       "    <tr>\n",
       "      <th>2</th>\n",
       "      <td>1904-04-11</td>\n",
       "      <td>159</td>\n",
       "      <td>10.6</td>\n",
       "      <td>NaN</td>\n",
       "      <td>14.9</td>\n",
       "      <td>NaN</td>\n",
       "    </tr>\n",
       "    <tr>\n",
       "      <th>8</th>\n",
       "      <td>1904-04-17</td>\n",
       "      <td>159</td>\n",
       "      <td>10.3</td>\n",
       "      <td>NaN</td>\n",
       "      <td>12.6</td>\n",
       "      <td>NaN</td>\n",
       "    </tr>\n",
       "    <tr>\n",
       "      <th>11</th>\n",
       "      <td>1904-04-20</td>\n",
       "      <td>159</td>\n",
       "      <td>11.9</td>\n",
       "      <td>NaN</td>\n",
       "      <td>NaN</td>\n",
       "      <td>NaN</td>\n",
       "    </tr>\n",
       "    <tr>\n",
       "      <th>12</th>\n",
       "      <td>1904-04-21</td>\n",
       "      <td>159</td>\n",
       "      <td>12.1</td>\n",
       "      <td>NaN</td>\n",
       "      <td>18.3</td>\n",
       "      <td>NaN</td>\n",
       "    </tr>\n",
       "    <tr>\n",
       "      <th>17</th>\n",
       "      <td>1904-04-26</td>\n",
       "      <td>159</td>\n",
       "      <td>14.5</td>\n",
       "      <td>NaN</td>\n",
       "      <td>17.6</td>\n",
       "      <td>NaN</td>\n",
       "    </tr>\n",
       "    <tr>\n",
       "      <th>28</th>\n",
       "      <td>1904-05-07</td>\n",
       "      <td>159</td>\n",
       "      <td>16.1</td>\n",
       "      <td>NaN</td>\n",
       "      <td>21.9</td>\n",
       "      <td>NaN</td>\n",
       "    </tr>\n",
       "    <tr>\n",
       "      <th>37</th>\n",
       "      <td>1904-05-16</td>\n",
       "      <td>159</td>\n",
       "      <td>16.3</td>\n",
       "      <td>NaN</td>\n",
       "      <td>21.1</td>\n",
       "      <td>NaN</td>\n",
       "    </tr>\n",
       "    <tr>\n",
       "      <th>40</th>\n",
       "      <td>1904-05-19</td>\n",
       "      <td>159</td>\n",
       "      <td>16.3</td>\n",
       "      <td>NaN</td>\n",
       "      <td>22.8</td>\n",
       "      <td>NaN</td>\n",
       "    </tr>\n",
       "    <tr>\n",
       "      <th>22961</th>\n",
       "      <td>1967-02-19</td>\n",
       "      <td>159</td>\n",
       "      <td>2.7</td>\n",
       "      <td>NaN</td>\n",
       "      <td>NaN</td>\n",
       "      <td>NaN</td>\n",
       "    </tr>\n",
       "    <tr>\n",
       "      <th>25392</th>\n",
       "      <td>1973-10-16</td>\n",
       "      <td>159</td>\n",
       "      <td>15.9</td>\n",
       "      <td>NaN</td>\n",
       "      <td>NaN</td>\n",
       "      <td>NaN</td>\n",
       "    </tr>\n",
       "  </tbody>\n",
       "</table>\n",
       "</div>"
      ],
      "text/plain": [
       "               날짜   지점  평균기온(℃)  최저기온(℃)  최고기온(℃)  일교차\n",
       "2      1904-04-11  159     10.6      NaN     14.9  NaN\n",
       "8      1904-04-17  159     10.3      NaN     12.6  NaN\n",
       "11     1904-04-20  159     11.9      NaN      NaN  NaN\n",
       "12     1904-04-21  159     12.1      NaN     18.3  NaN\n",
       "17     1904-04-26  159     14.5      NaN     17.6  NaN\n",
       "28     1904-05-07  159     16.1      NaN     21.9  NaN\n",
       "37     1904-05-16  159     16.3      NaN     21.1  NaN\n",
       "40     1904-05-19  159     16.3      NaN     22.8  NaN\n",
       "22961  1967-02-19  159      2.7      NaN      NaN  NaN\n",
       "25392  1973-10-16  159     15.9      NaN      NaN  NaN"
      ]
     },
     "execution_count": 32,
     "metadata": {},
     "output_type": "execute_result"
    }
   ],
   "source": [
    "df[pd.isnull(df['최저기온(℃)'])]"
   ]
  },
  {
   "cell_type": "code",
   "execution_count": 33,
   "id": "cdec878a",
   "metadata": {},
   "outputs": [],
   "source": [
    "# 그래프 그리기\n",
    "import matplotlib.pyplot as plt"
   ]
  },
  {
   "cell_type": "code",
   "execution_count": 34,
   "id": "e6258373",
   "metadata": {},
   "outputs": [
    {
     "data": {
      "image/png": "[encoded data removed]",
      "text/plain": [
       "<Figure size 432x288 with 1 Axes>"
      ]
     },
     "metadata": {
      "needs_background": "light"
     },
     "output_type": "display_data"
    }
   ],
   "source": [
    "plt.plot(df['날짜'][10000:10050],df['평균기온(℃)'][10000:10050])\n",
    "plt.xticks(df['날짜'][10000:10050], rotation=90)\n",
    "plt.show()"
   ]
  },
  {
   "cell_type": "code",
   "execution_count": 35,
   "id": "5961436e",
   "metadata": {},
   "outputs": [
    {
     "name": "stdout",
     "output_type": "stream",
     "text": [
      "           날짜   지점  평균기온(℃)  최저기온(℃)  최고기온(℃)   일교차    연도   월   일\n",
      "0  1904-04-09  159     11.3      7.8     16.1   8.3  1904  04  09\n",
      "1  1904-04-10  159      9.3      4.7     15.2  10.5  1904  04  10\n",
      "2  1904-04-11  159     10.6      NaN     14.9   NaN  1904  04  11\n",
      "3  1904-04-12  159     11.3      8.8     13.4   4.6  1904  04  12\n",
      "4  1904-04-13  159     14.5     11.1     16.9   5.8  1904  04  13\n"
     ]
    }
   ],
   "source": [
    "# 2020년 이후 3월 1일 이후 최고/최저 기온 확인\n",
    "df['연도'] = df['날짜'].apply(lambda x : x.split('-')[0])\n",
    "df['월'] = df['날짜'].apply(lambda x : x.split('-')[1])\n",
    "df['일'] = df['날짜'].apply(lambda x : x.split('-')[2])\n",
    "\n",
    "print(df.head())"
   ]
  },
  {
   "cell_type": "code",
   "execution_count": 36,
   "id": "2296243e",
   "metadata": {},
   "outputs": [
    {
     "name": "stdout",
     "output_type": "stream",
     "text": [
      "['2000' '2001' '2002' '2003' '2004' '2005' '2006' '2007' '2008' '2009'\n",
      " '2010' '2011' '2012' '2013' '2014' '2015' '2016' '2017' '2018' '2019'\n",
      " '2020' '2021' '2022']\n",
      "range(0, 23)\n"
     ]
    }
   ],
   "source": [
    "year = df[df['연도'] >= '2000']['연도'].unique()\n",
    "ticks = range(len(year))\n",
    "print(year)\n",
    "print(ticks)"
   ]
  },
  {
   "cell_type": "code",
   "execution_count": 39,
   "id": "55362303",
   "metadata": {},
   "outputs": [
    {
     "name": "stdout",
     "output_type": "stream",
     "text": [
      "0     12.1\n",
      "1     11.9\n",
      "2     15.1\n",
      "3      8.6\n",
      "4     10.0\n",
      "5      9.4\n",
      "6      6.4\n",
      "7     14.5\n",
      "8     13.4\n",
      "9     13.6\n",
      "10     9.9\n",
      "11     9.7\n",
      "12    12.5\n",
      "13    14.2\n",
      "14    11.4\n",
      "15     9.6\n",
      "16     7.7\n",
      "17    13.8\n",
      "18    12.0\n",
      "19    16.1\n",
      "20    15.6\n",
      "21    15.5\n",
      "22    15.0\n",
      "Name: 최고기온(℃), dtype: float64\n"
     ]
    }
   ],
   "source": [
    "# 매년 3월 1일 최고기온\n",
    "최고기온 = df[\n",
    "    (df['연도'] >= '2000') & \n",
    "    (df['월'] == '03') &\n",
    "    (df['일'] == '01')]['최고기온(℃)']\n",
    "최고기온.index = ticks\n",
    "print(최고기온)"
   ]
  },
  {
   "cell_type": "code",
   "execution_count": 40,
   "id": "16541545",
   "metadata": {},
   "outputs": [
    {
     "name": "stdout",
     "output_type": "stream",
     "text": [
      "0     1.0\n",
      "1     6.0\n",
      "2     6.8\n",
      "3     5.7\n",
      "4     4.5\n",
      "5    -0.1\n",
      "6     0.4\n",
      "7     4.7\n",
      "8     2.1\n",
      "9     5.9\n",
      "10    5.5\n",
      "11    2.5\n",
      "12    6.2\n",
      "13    1.1\n",
      "14    8.0\n",
      "15    2.2\n",
      "16   -4.3\n",
      "17    6.2\n",
      "18    2.7\n",
      "19    7.0\n",
      "20    7.2\n",
      "21    5.2\n",
      "22    8.3\n",
      "Name: 최저기온(℃), dtype: float64\n"
     ]
    }
   ],
   "source": [
    "# 매년 3월 1일 최저기온\n",
    "최저기온 = df[\n",
    "    (df['연도'] >= '2000') & \n",
    "    (df['월'] == '03') &\n",
    "    (df['일'] == '01')]['최저기온(℃)']\n",
    "최저기온.index = ticks\n",
    "print(최저기온)"
   ]
  },
  {
   "cell_type": "code",
   "execution_count": 42,
   "id": "f2f57acc",
   "metadata": {},
   "outputs": [
    {
     "data": {
      "image/png": "[encoded data removed]",
      "text/plain": [
       "<Figure size 432x288 with 1 Axes>"
      ]
     },
     "metadata": {
      "needs_background": "light"
     },
     "output_type": "display_data"
    }
   ],
   "source": [
    "plt.rc('font',family='Malgun Gothic')\n",
    "plt.rcParams['axes.unicode_minus'] = False\n",
    "\n",
    "plt.plot(최고기온, label='최고기온')\n",
    "plt.plot(최저기온, label='최저기온')\n",
    "plt.xticks(ticks, year, rotation=45)\n",
    "plt.legend()\n",
    "plt.show()"
   ]
  },
  {
   "cell_type": "code",
   "execution_count": 44,
   "id": "49a359bc",
   "metadata": {},
   "outputs": [
    {
     "name": "stdout",
     "output_type": "stream",
     "text": [
      "연도\n",
      "1904    16.880524\n",
      "1905    13.973151\n",
      "1906    13.076438\n",
      "1907    13.579178\n",
      "1908    13.347814\n",
      "          ...    \n",
      "2018    15.115068\n",
      "2019    15.751507\n",
      "2020    15.205464\n",
      "2021    15.771233\n",
      "2022    10.632680\n",
      "Name: 평균기온(℃), Length: 119, dtype: float64\n"
     ]
    },
    {
     "data": {
      "text/plain": [
       "<AxesSubplot:xlabel='연도'>"
      ]
     },
     "execution_count": 44,
     "metadata": {},
     "output_type": "execute_result"
    },
    {
     "data": {
      "image/png": "[encoded data removed]",
      "text/plain": [
       "<Figure size 432x288 with 1 Axes>"
      ]
     },
     "metadata": {
      "needs_background": "light"
     },
     "output_type": "display_data"
    }
   ],
   "source": [
    "# 연도별 평균기온\n",
    "df_group = df.groupby('연도')['평균기온(℃)'].mean()\n",
    "print(df_group)\n",
    "df_group.plot()"
   ]
  },
  {
   "cell_type": "code",
   "execution_count": 52,
   "id": "af178dc5",
   "metadata": {},
   "outputs": [
    {
     "data": {
      "image/png": "[encoded data removed]",
      "text/plain": [
       "<Figure size 432x288 with 1 Axes>"
      ]
     },
     "metadata": {
      "needs_background": "light"
     },
     "output_type": "display_data"
    }
   ],
   "source": [
    "plt.hist(df['최고기온(℃)'], bins=100, color='blue')\n",
    "plt.show()"
   ]
  },
  {
   "cell_type": "code",
   "execution_count": null,
   "id": "fa79010a",
   "metadata": {},
   "outputs": [],
   "source": []
  },
  {
   "cell_type": "code",
   "execution_count": null,
   "id": "2c7ed772",
   "metadata": {},
   "outputs": [],
   "source": []
  },
  {
   "cell_type": "code",
   "execution_count": null,
   "id": "37c5d37e",
   "metadata": {},
   "outputs": [],
   "source": []
  }
 ],
 "metadata": {
  "kernelspec": {
   "display_name": "Python 3 (ipykernel)",
   "language": "python",
   "name": "python3"
  },
  "language_info": {
   "codemirror_mode": {
    "name": "ipython",
    "version": 3
   },
   "file_extension": ".py",
   "mimetype": "text/x-python",
   "name": "python",
   "nbconvert_exporter": "python",
   "pygments_lexer": "ipython3",
   "version": "3.9.12"
  }
 },
 "nbformat": 4,
 "nbformat_minor": 5
}
