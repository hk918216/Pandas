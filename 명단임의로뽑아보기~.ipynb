{
 "cells": [
  {
   "cell_type": "code",
   "execution_count": 1,
   "id": "042b8856",
   "metadata": {},
   "outputs": [],
   "source": [
    "import pandas as pd"
   ]
  },
  {
   "cell_type": "code",
   "execution_count": null,
   "id": "1d1c44ab",
   "metadata": {},
   "outputs": [],
   "source": [
    "df = pd.read_csv('파일경로입력', encoding='ecu-kr',index_col='컬럼명')"
   ]
  },
  {
   "cell_type": "code",
   "execution_count": null,
   "id": "c5d3642c",
   "metadata": {},
   "outputs": [],
   "source": [
    "# 행 지우기\n",
    "df2 = df[df['컬럼명'] !='해당컬럼에서지울값']"
   ]
  },
  {
   "cell_type": "code",
   "execution_count": null,
   "id": "bb1ebf25",
   "metadata": {},
   "outputs": [],
   "source": [
    "df2.sample(n=5) #5개 랜덤으로 뽑기\n",
    "random_index_df = df2.sample(frac=1)"
   ]
  },
  {
   "cell_type": "code",
   "execution_count": null,
   "id": "bbd53c3f",
   "metadata": {},
   "outputs": [],
   "source": [
    "random_index_df.iloc[:5]['뽑고싶은컬럼'].values #위에서부터 5개"
   ]
  }
 ],
 "metadata": {
  "kernelspec": {
   "display_name": "Python 3 (ipykernel)",
   "language": "python",
   "name": "python3"
  },
  "language_info": {
   "codemirror_mode": {
    "name": "ipython",
    "version": 3
   },
   "file_extension": ".py",
   "mimetype": "text/x-python",
   "name": "python",
   "nbconvert_exporter": "python",
   "pygments_lexer": "ipython3",
   "version": "3.9.12"
  }
 },
 "nbformat": 4,
 "nbformat_minor": 5
}
